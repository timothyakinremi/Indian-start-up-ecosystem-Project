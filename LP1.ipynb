{
 "cells": [
  {
   "cell_type": "markdown",
   "metadata": {},
   "source": [
    "## Exploratory Data Analysis of Indian Start-up Funding (2018–2021)"
   ]
  },
  {
   "cell_type": "markdown",
   "metadata": {},
   "source": [
    "**Hypothesis**\n",
    " \n",
    "Null Hypothesis (H0): Funding to start-ups is centralized around specific locations and sectors.\n",
    " \n",
    "Alternative Hypothesis (H1): Funding to start-ups is spread across different locations and sectors.\n",
    " \n",
    " \n",
    " \n",
    "**RESEARCH QUESTIONS**\n",
    " \n",
    "1.How has funding to startups changed over the period of time?\n",
    "2.What is the average amount of funding for start-ups in?\n",
    "3.Which headquarter is the most preferred startup location?\n",
    "4.Which sectors are most favoured by investors?\n",
    "5.What are the most common funding stages among indian startups?\n",
    " "
   ]
  },
  {
   "cell_type": "markdown",
   "metadata": {},
   "source": [
    "### Bussiness Questions\n",
    "What sectors are attracting the most investment in the Indian start-up ecosystem?\n",
    "\n",
    "Which cities are the major hubs for start-ups in India?\n",
    "\n",
    "What is the trend of funding amounts over the years?\n",
    "\n",
    "Who are the key investors in the Indian start-up ecosystem?\n",
    "\n",
    "What is the success rate of start-ups in different sectors?"
   ]
  },
  {
   "cell_type": "markdown",
   "metadata": {},
   "source": [
    "This analysis provides a comprehensive overview of the current landscape, identifying the most promising sectors, cities, funding trends, and key players."
   ]
  },
  {
   "cell_type": "markdown",
   "metadata": {},
   "source": [
    "Column names and description:\n",
    "\n",
    "Company/Brand: Name of the company/start-up\n",
    "\n",
    "Founded: Year start-up was founded\n",
    "\n",
    "Sector: Sector of service\n",
    "\n",
    "What it does: Description about Company\n",
    "\n",
    "Founders: Founders of the Company\n",
    "\n",
    "Investor: Investors\n",
    "\n",
    "Amount($): Raised fund\n",
    "\n",
    "Stage: Round of funding reached"
   ]
  },
  {
   "cell_type": "code",
   "execution_count": 2,
   "metadata": {},
   "outputs": [
    {
     "name": "stdout",
     "output_type": "stream",
     "text": [
      "Requirement already satisfied: pyodbc in c:\\users\\akinremi timothy\\appdata\\local\\programs\\python\\python311\\lib\\site-packages (4.0.39)\n",
      "Note: you may need to restart the kernel to use updated packages.\n"
     ]
    },
    {
     "name": "stderr",
     "output_type": "stream",
     "text": [
      "\n",
      "[notice] A new release of pip is available: 23.2.1 -> 24.0\n",
      "[notice] To update, run: python.exe -m pip install --upgrade pip\n"
     ]
    },
    {
     "name": "stdout",
     "output_type": "stream",
     "text": [
      "Requirement already satisfied: python-dotenv in c:\\users\\akinremi timothy\\appdata\\local\\programs\\python\\python311\\lib\\site-packages (1.0.0)Note: you may need to restart the kernel to use updated packages.\n",
      "\n"
     ]
    },
    {
     "name": "stderr",
     "output_type": "stream",
     "text": [
      "\n",
      "[notice] A new release of pip is available: 23.2.1 -> 24.0\n",
      "[notice] To update, run: python.exe -m pip install --upgrade pip\n"
     ]
    }
   ],
   "source": [
    "%pip install pyodbc  \n",
    "%pip install python-dotenv "
   ]
  },
  {
   "cell_type": "code",
   "execution_count": 3,
   "metadata": {},
   "outputs": [],
   "source": [
    "import pyodbc     \n",
    "from dotenv import dotenv_values    #import the dotenv_values function from the dotenv package\n",
    "import pandas as pd\n",
    "import warnings \n",
    "\n",
    "warnings.filterwarnings('ignore')"
   ]
  },
  {
   "cell_type": "code",
   "execution_count": null,
   "metadata": {},
   "outputs": [],
   "source": []
  },
  {
   "cell_type": "code",
   "execution_count": null,
   "metadata": {},
   "outputs": [],
   "source": []
  },
  {
   "cell_type": "code",
   "execution_count": null,
   "metadata": {},
   "outputs": [],
   "source": []
  },
  {
   "cell_type": "code",
   "execution_count": null,
   "metadata": {},
   "outputs": [],
   "source": []
  }
 ],
 "metadata": {
  "kernelspec": {
   "display_name": "Python 3",
   "language": "python",
   "name": "python3"
  },
  "language_info": {
   "codemirror_mode": {
    "name": "ipython",
    "version": 3
   },
   "file_extension": ".py",
   "mimetype": "text/x-python",
   "name": "python",
   "nbconvert_exporter": "python",
   "pygments_lexer": "ipython3",
   "version": "3.11.4"
  }
 },
 "nbformat": 4,
 "nbformat_minor": 2
}
